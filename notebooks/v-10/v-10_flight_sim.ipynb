{
 "cells": [
  {
   "cell_type": "markdown",
   "id": "296e479d",
   "metadata": {},
   "source": [
    "# V-10 flight simulation\n",
    "This notebook is being developed by the avionics and flight dynamics sub-teams in The Rocket Launchers student organization at the University of Texas Rio Grande Valley. Our rocket's name is V-10 in celebration of our club's 10th anniversary! V-10 will be competing in the 10k COTS division at Lonestar cup 2026 and IREC 2026.\n",
    "\n",
    "\n",
    "Key features of V-10:\n",
    "- Air brakes\n",
    "- vonKarman Nose Cone\n",
    "- Replaceable fins\n"
   ]
  },
  {
   "cell_type": "code",
   "execution_count": null,
   "id": "a97170ca",
   "metadata": {},
   "outputs": [],
   "source": [
    "from rocketpy import Environment, SolidMotor, Rocket, Flight, TrapezoidalFins, EllipticalFins, RailButtons, NoseCone, Tail, Parachute\n",
    "import datetime \n"
   ]
  },
  {
   "cell_type": "markdown",
   "id": "f98bc9ad",
   "metadata": {},
   "source": [
    "## Environment\n"
   ]
  },
  {
   "cell_type": "code",
   "execution_count": null,
   "id": "6b2a2970",
   "metadata": {},
   "outputs": [],
   "source": [
    "env = Environment()\n",
    "env.set_location(latitude=28.61, longitude=-80.6)\n",
    "env.set_elevation(1402.0800000000002)\n"
   ]
  },
  {
   "cell_type": "markdown",
   "id": "9bbf5983",
   "metadata": {},
   "source": [
    "Optionally, you can set the date and atmospheric model\n"
   ]
  },
  {
   "cell_type": "code",
   "execution_count": null,
   "id": "f88b99a8",
   "metadata": {},
   "outputs": [],
   "source": [
    "tomorrow = datetime.date.today() + datetime.timedelta(days=1)\n",
    "env.set_date((tomorrow.year, tomorrow.month, tomorrow.day, 12))\n",
    "env.set_atmospheric_model(type='Forecast', file='GFS')"
   ]
  },
  {
   "cell_type": "code",
   "execution_count": null,
   "id": "16b9d5e3",
   "metadata": {},
   "outputs": [],
   "source": [
    "env.all_info()\n"
   ]
  },
  {
   "cell_type": "markdown",
   "id": "7b7db619",
   "metadata": {},
   "source": [
    "## Motor\n",
    "V-10 uses an AeroTech M2500T (98 mm) solid motor. We load the thrust curve from the local ENG file and set geometry and masses as follows:\n",
    "\n",
    "- Diameter: 98 mm (outer grain radius 0.049 m)\n",
    "- Grain length used: 0.732 m\n",
    "- Propellant mass: 4.711 kg\n",
    "- Total motor mass: 8.064 kg → Dry mass used: 3.353 kg\n",
    "- Average thrust: ~2,500 N; Max thrust: ~3,711–4,081 N; Total impulse: ~9,671 Ns\n",
    "- Nozzle radius: 0.03675 m; Throat radius: 0.0245 m\n",
    "- Orientation: combustion_chamber_to_nozzle\n",
    "\n",
    "These values are reflected directly in the code below.\n"
   ]
  },
  {
   "cell_type": "code",
   "execution_count": null,
   "id": "b3ecc9ff",
   "metadata": {},
   "outputs": [],
   "source": [
    "m2500t = SolidMotor(\n",
    "    thrust_source='../../data/AeroTech_M2500T.eng',\n",
    "    dry_mass=3.353,  # Total 8.064 kg - Propellant 4.711 kg per cell 8\n",
    "    center_of_dry_mass_position=0,\n",
    "    dry_inertia=[0, 0, 0],\n",
    "    grains_center_of_mass_position=0,\n",
    "    grain_number=1,\n",
    "    # Set density to match 4.711 kg propellant mass given geometry\n",
    "    grain_density=1137.5,\n",
    "    grain_outer_radius=0.049,  # 98 mm diameter\n",
    "    grain_initial_inner_radius=0.0245,\n",
    "    grain_initial_height=0.732,  # Length per cell 8\n",
    "    grain_separation=0,\n",
    "    nozzle_radius=0.036750000000000005,\n",
    "    nozzle_position=0.351,  # Sign flipped for new orientation\n",
    "    throat_radius=0.0245,\n",
    "    reshape_thrust_curve=False,  # Not implemented in Rocket-Serializer\n",
    "    interpolation_method='linear',\n",
    "    coordinate_system_orientation='combustion_chamber_to_nozzle',  # Aligned with rocket direction\n",
    ")"
   ]
  },
  {
   "cell_type": "code",
   "execution_count": null,
   "id": "a89fe306",
   "metadata": {},
   "outputs": [],
   "source": [
    "m2500t.all_info()\n"
   ]
  },
  {
   "cell_type": "markdown",
   "id": "7fdd3bcf",
   "metadata": {},
   "source": [
    "## Rocket\n",
    "V-10 is a single-stage rocket. We first define aerodynamic surfaces, then assemble the rocket with mass/inertia and drag models.\n",
    "\n",
    "- Reference radius: 0.0777875 m\n",
    "- Dry mass (without motor): 17.732 kg\n",
    "- Center of mass (without motor): 1.41 m from nose tip\n",
    "- Inertia tensor (about body axes): [0.115, 0.115, 21.424] kg·m²\n",
    "- Coordinate system orientation: nose_to_tail\n",
    "\n",
    "Next, we create surfaces (nose cone, fins, boat tail) and then build the rocket object with the above properties.\n"
   ]
  },
  {
   "cell_type": "markdown",
   "id": "0eeddfcd",
   "metadata": {},
   "source": [
    "### Nose cone\n",
    "V-10 uses a Haack (Von Kármán equivalent) nose cone with:\n",
    "- Length: 0.381 m\n",
    "- Base radius: 0.0777875 m\n",
    "\n",
    "We'll use RocketPy's Von Karman nose cone with these dimensions."
   ]
  },
  {
   "cell_type": "code",
   "execution_count": null,
   "id": "15f0536b",
   "metadata": {},
   "outputs": [],
   "source": [
    "nosecone = NoseCone(\n",
    "    length=0.381,\n",
    "    kind='Von Karman',\n",
    "    base_radius=0.0777875,\n",
    "    rocket_radius=0.0777875,\n",
    "    name='Nose Cone',\n",
    ")\n"
   ]
  },
  {
   "cell_type": "code",
   "execution_count": null,
   "id": "4e4afbd6",
   "metadata": {},
   "outputs": [],
   "source": [
    "nosecone.draw()"
   ]
  },
  {
   "cell_type": "markdown",
   "id": "829341b4",
   "metadata": {},
   "source": [
    "### Fins\n",
    "Using dimensions from the V-10 design, we approximate the freeform fin set as trapezoidal fins:\n",
    "\n",
    "- Count: 4 fins\n",
    "- Root chord: 0.3048 m\n",
    "- Tip chord: 0.01905 m (based on planform points)\n",
    "- Span: 0.1524 m\n",
    "- Leading-edge sweep length: 0.254 m\n",
    "\n",
    "These values match the fin planform used for V-10."
   ]
  },
  {
   "cell_type": "code",
   "execution_count": null,
   "id": "d88d4257",
   "metadata": {},
   "outputs": [],
   "source": [
    "fins = TrapezoidalFins(\n",
    "    n=4,\n",
    "    root_chord=0.3048,\n",
    "    tip_chord=0.01905,\n",
    "    span=0.1524,\n",
    "    sweep_length=0.254,\n",
    "    rocket_radius=0.0777875,\n",
    "    name=\"CF Trapezoidal (approx from V-10)\",\n",
    ")"
   ]
  },
  {
   "cell_type": "code",
   "execution_count": null,
   "id": "f52f3602",
   "metadata": {},
   "outputs": [],
   "source": [
    "fins.draw()"
   ]
  },
  {
   "cell_type": "markdown",
   "id": "2a1e7bfe",
   "metadata": {},
   "source": [
    "### Transitions (Tails)\n",
    "Boat tail per V-10:\n",
    "- Shape: Conical\n",
    "- Length: 0.0508 m\n",
    "- Fore (top) radius: 0.0777875 m (matches body)\n",
    "- Aft (bottom) radius: 0.0635 m\n",
    "\n",
    "We'll create this as a Tail surface and add it to the rocket at the aft end."
   ]
  },
  {
   "cell_type": "code",
   "execution_count": null,
   "id": "09f98c18",
   "metadata": {},
   "outputs": [],
   "source": [
    "tails = {}\n"
   ]
  },
  {
   "cell_type": "code",
   "execution_count": null,
   "id": "c34922dc",
   "metadata": {},
   "outputs": [],
   "source": [
    "tails[0] = Tail(\n",
    "    top_radius=0.0777875,\n",
    "    bottom_radius=0.0635,\n",
    "    length=0.0508,\n",
    "    rocket_radius=0.0777875,\n",
    "    name='Boat Tail',\n",
    ")\n"
   ]
  },
  {
   "cell_type": "markdown",
   "id": "0f0f7e7a",
   "metadata": {},
   "source": [
    "### Parachutes\n",
    "Using the V-10 model data and converting diameter to CdS (CdS = CD × area):\n",
    "- Main: CD = 2.2, Diameter = 2.7432 m → area ≈ 5.909 m² → CdS ≈ 13.0 (we use 13.003)\n",
    "- Drogue: CD = 2.2, Diameter = 0.6096 m → area ≈ 0.2918 m² → CdS ≈ 0.642\n",
    "\n",
    "We trigger the main by altitude (396.24 m) and the drogue at apogee."
   ]
  },
  {
   "cell_type": "code",
   "execution_count": null,
   "id": "034ce6c3",
   "metadata": {},
   "outputs": [],
   "source": [
    "parachutes = {}\n"
   ]
  },
  {
   "cell_type": "code",
   "execution_count": null,
   "id": "1dc9269b",
   "metadata": {},
   "outputs": [],
   "source": [
    "parachutes[0] = Parachute(\n",
    "    name='Main Parachute + Bag',\n",
    "    cd_s=13.003,\n",
    "    trigger=396.240,\n",
    "    sampling_rate=100, \n",
    ")\n"
   ]
  },
  {
   "cell_type": "code",
   "execution_count": null,
   "id": "bd22b07a",
   "metadata": {},
   "outputs": [],
   "source": [
    "parachutes[1] = Parachute(\n",
    "    name='Drogue',\n",
    "    cd_s=0.642,  # Corrected: CD * area = 2.2 * 0.292\n",
    "    trigger='apogee',\n",
    "    sampling_rate=100, \n",
    ")\n"
   ]
  },
  {
   "cell_type": "code",
   "execution_count": null,
   "id": "904f3c24",
   "metadata": {},
   "outputs": [],
   "source": [
    "import numpy as np\n",
    "\n",
    "# Initial Cd vs Mach curves for V-10; tune later with flight data or CFD.\n",
    "cd_power_off = np.array([\n",
    "    [0.00, 0.45],\n",
    "    [0.50, 0.50],\n",
    "    [0.90, 0.55],\n",
    "    [1.00, 0.75],\n",
    "    [1.20, 0.65],\n",
    "    [2.00, 0.50],\n",
    "    [3.00, 0.45],\n",
    "])\n",
    "\n",
    "cd_power_on = np.array([\n",
    "    [0.00, 0.40],\n",
    "    [0.50, 0.45],\n",
    "    [0.90, 0.50],\n",
    "    [1.00, 0.70],\n",
    "    [1.20, 0.60],\n",
    "    [2.00, 0.45],\n",
    "    [3.00, 0.40],\n",
    "])\n",
    "\n",
    "rocket = Rocket(\n",
    "    radius=0.0777875,\n",
    "    mass=17.732,  # Matched to OpenRocket (without motor)\n",
    "    inertia=[0.115, 0.115, 21.424],\n",
    "    power_off_drag=cd_power_off,\n",
    "    power_on_drag=cd_power_on,\n",
    "    center_of_mass_without_motor=1.41,  # Matched via calculation from OpenRocket\n",
    "    coordinate_system_orientation='nose_to_tail',\n",
    ")\n"
   ]
  },
  {
   "cell_type": "markdown",
   "id": "50647b7e",
   "metadata": {},
   "source": [
    "### Adding surfaces to the rocket\n",
    "We add:\n",
    "- Nose cone at 0.0 m (tip reference)\n",
    "- Fins at 2.592 m (root leading edge per V-10 geometry)\n",
    "- Boat tail at 2.8964 m (aft end)\n",
    "\n",
    "Positions are measured from the nose tip following the 'nose_to_tail' convention.\n"
   ]
  },
  {
   "cell_type": "code",
   "execution_count": null,
   "id": "79f35928",
   "metadata": {},
   "outputs": [],
   "source": [
    "rocket.add_surfaces(surfaces=[nosecone, fins, tails[0]], positions=[0.0, 2.592, 2.8964])"
   ]
  },
  {
   "cell_type": "code",
   "execution_count": null,
   "id": "1696fd50",
   "metadata": {},
   "outputs": [],
   "source": [
    "rocket.add_motor(m2500t, position=2.562)\n"
   ]
  },
  {
   "cell_type": "markdown",
   "id": "34d47124",
   "metadata": {},
   "source": [
    "Adding parachutes to the rocket\n"
   ]
  },
  {
   "cell_type": "code",
   "execution_count": null,
   "id": "e1daf782",
   "metadata": {},
   "outputs": [],
   "source": [
    "rocket.parachutes = list(parachutes.values())\n"
   ]
  },
  {
   "cell_type": "markdown",
   "id": "a5f8c731",
   "metadata": {},
   "source": [
    "### Rail Buttons\n",
    "Positions derived from V-10's launch lugs (converted to distances from the nose tip and centered on lug length 0.0381 m):\n",
    "- Upper button center ≈ 1.7778 m\n",
    "- Lower button center ≈ 1.3906 m\n",
    "- Angular position: 60°"
   ]
  },
  {
   "cell_type": "code",
   "execution_count": null,
   "id": "80f36f62",
   "metadata": {},
   "outputs": [],
   "source": [
    "rail_buttons = rocket.set_rail_buttons(\n",
    "   upper_button_position=1.7778,\n",
    "   lower_button_position=1.3906,\n",
    "   angular_position=60.0,\n",
    ")"
   ]
  },
  {
   "cell_type": "code",
   "execution_count": null,
   "id": "0a484f8a",
   "metadata": {},
   "outputs": [],
   "source": [
    "### Rocket Info\n",
    "rocket.all_info()\n"
   ]
  },
  {
   "cell_type": "markdown",
   "id": "84a9f4af",
   "metadata": {},
   "source": [
    "## Flight\n",
    "We will now create the flight simulation. Let's go!\n"
   ]
  },
  {
   "cell_type": "code",
   "execution_count": null,
   "id": "5f93c009",
   "metadata": {},
   "outputs": [],
   "source": [
    "flight = Flight(\n",
    "    rocket=rocket,\n",
    "    environment=env,\n",
    "    rail_length=5.1816,\n",
    "    inclination=90.0,\n",
    "    heading=90.0,\n",
    "    terminate_on_apogee=False,\n",
    "    max_time=600,\n",
    ")"
   ]
  },
  {
   "cell_type": "code",
   "execution_count": null,
   "id": "502a85b8",
   "metadata": {},
   "outputs": [],
   "source": [
    "# Print key flight summary statistics\n",
    "print(\"Flight Summary:\")\n",
    "\n",
    "flight.all_info()\n"
   ]
  }
 ],
 "metadata": {
  "kernelspec": {
   "display_name": "rl-rocketpy-hil (3.13.5)",
   "language": "python",
   "name": "python3"
  },
  "language_info": {
   "codemirror_mode": {
    "name": "ipython",
    "version": 3
   },
   "file_extension": ".py",
   "mimetype": "text/x-python",
   "name": "python",
   "nbconvert_exporter": "python",
   "pygments_lexer": "ipython3",
   "version": "3.13.5"
  }
 },
 "nbformat": 4,
 "nbformat_minor": 5
}
