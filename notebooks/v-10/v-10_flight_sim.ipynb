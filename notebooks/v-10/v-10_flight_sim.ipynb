{
 "cells": [
  {
   "cell_type": "markdown",
   "id": "296e479d",
   "metadata": {},
   "source": [
    "# V-10 flight simulation\n",
    "This notebook is being developed by the avionics and flight dynamics sub-teams in The Rocket Launchers student organization at the University of Texas Rio Grande Valley. Our rocket's name is V-10 in celebration of our club's 10th anniversary! V-10 will be competing in the 10k COTS division at Lonestar cup 2026 and IREC 2026.\n",
    "\n",
    "\n",
    "Key features of V-10:\n",
    "- Air brakes\n",
    "- vonKarman Nose Cone\n",
    "- Replaceable fins\n"
   ]
  },
  {
   "cell_type": "code",
   "execution_count": null,
   "id": "a97170ca",
   "metadata": {},
   "outputs": [],
   "source": [
    "# Import RocketPy classes for simulation components\n",
    "# Environment: atmospheric conditions and launch site\n",
    "# SolidMotor: rocket motor thrust and geometry\n",
    "# Rocket: main rocket assembly with mass and aerodynamic properties\n",
    "# Flight: flight simulation engine\n",
    "# Aerodynamic surfaces: TrapezoidalFins, EllipticalFins, NoseCone, Tail\n",
    "# Recovery: Parachute\n",
    "# Rail components: RailButtons\n",
    "from rocketpy import Environment, SolidMotor, Rocket, Flight, TrapezoidalFins, EllipticalFins, RailButtons, NoseCone, Tail, Parachute\n",
    "import datetime"
   ]
  },
  {
   "cell_type": "markdown",
   "id": "f98bc9ad",
   "metadata": {},
   "source": [
    "## Environment\n"
   ]
  },
  {
   "cell_type": "code",
   "execution_count": null,
   "id": "6b2a2970",
   "metadata": {},
   "outputs": [],
   "source": [
    "# Create environment object and configure launch site location\n",
    "env = Environment()\n",
    "\n",
    "# Launch site coordinates: Space Coast Spaceport, Florida (near Cape Canaveral)\n",
    "launch_latitude = 28.61   # degrees North\n",
    "launch_longitude = -80.6  # degrees West\n",
    "launch_elevation = 1402.08  # meters above sea level\n",
    "\n",
    "env.set_location(latitude=launch_latitude, longitude=launch_longitude)\n",
    "env.set_elevation(launch_elevation)"
   ]
  },
  {
   "cell_type": "markdown",
   "id": "9bbf5983",
   "metadata": {},
   "source": [
    "Optionally, you can set the date and atmospheric model\n"
   ]
  },
  {
   "cell_type": "code",
   "execution_count": null,
   "id": "f88b99a8",
   "metadata": {},
   "outputs": [],
   "source": [
    "# Set simulation date to tomorrow at noon (12:00)\n",
    "# Uses GFS (Global Forecast System) atmospheric model for realistic weather conditions\n",
    "tomorrow = datetime.date.today() + datetime.timedelta(days=1)\n",
    "env.set_date((tomorrow.year, tomorrow.month, tomorrow.day, 12))\n",
    "env.set_atmospheric_model(type='Forecast', file='GFS')"
   ]
  },
  {
   "cell_type": "code",
   "execution_count": null,
   "id": "16b9d5e3",
   "metadata": {},
   "outputs": [],
   "source": [
    "# Display complete environment information including:\n",
    "# - Launch site coordinates and elevation\n",
    "# - Date and time of simulation\n",
    "# - Atmospheric conditions (temperature, pressure, wind)\n",
    "# - Weather model data source\n",
    "env.all_info()"
   ]
  },
  {
   "cell_type": "markdown",
   "id": "7b7db619",
   "metadata": {},
   "source": [
    "## Motor\n",
    "\n",
    "V-10 uses an AeroTech M2500T (98 mm) solid motor. The motor configuration includes:\n",
    "\n",
    "**Geometry Variables:**\n",
    "- `motor_grain_outer_radius`: outer radius of propellant grain\n",
    "- `motor_grain_inner_radius`: inner hollow core radius  \n",
    "- `motor_grain_height`: axial length of propellant grain\n",
    "- `motor_nozzle_radius`: nozzle exit radius\n",
    "- `motor_throat_radius`: nozzle throat radius (minimum flow area)\n",
    "\n",
    "**Mass Variables:**\n",
    "- `motor_dry_mass`: mass of motor casing without propellant\n",
    "- `motor_grain_density`: propellant density used to calculate propellant mass\n",
    "\n",
    "**Position:**\n",
    "- `motor_nozzle_position`: distance from grain center to nozzle\n",
    "\n",
    "The thrust curve is loaded from the local ENG file. Motor orientation is set to `combustion_chamber_to_nozzle` to align with the rocket's coordinate system."
   ]
  },
  {
   "cell_type": "code",
   "execution_count": null,
   "id": "b3ecc9ff",
   "metadata": {},
   "outputs": [],
   "source": [
    "# Motor geometry and mass parameters\n",
    "motor_dry_mass = 3.353  # kg - motor casing mass without propellant\n",
    "motor_grain_density = 1137.5  # kg/m³ - propellant density\n",
    "motor_grain_outer_radius = 0.049  # m - outer diameter of propellant grain (98 mm motor)\n",
    "motor_grain_inner_radius = 0.0245  # m - inner hollow core radius\n",
    "motor_grain_height = 0.732  # m - length of propellant grain\n",
    "motor_nozzle_radius = 0.036750000000000005  # m - nozzle exit radius\n",
    "motor_throat_radius = 0.0245  # m - nozzle throat radius (minimum diameter)\n",
    "motor_nozzle_position = 0.351  # m - distance from grain center to nozzle\n",
    "\n",
    "# Create SolidMotor object with AeroTech M2500T specifications\n",
    "m2500t = SolidMotor(\n",
    "    thrust_source='../../data/AeroTech_M2500T.eng',\n",
    "    dry_mass=motor_dry_mass,\n",
    "    center_of_dry_mass_position=0,\n",
    "    dry_inertia=[0, 0, 0],\n",
    "    grains_center_of_mass_position=0,\n",
    "    grain_number=1,\n",
    "    grain_density=motor_grain_density,\n",
    "    grain_outer_radius=motor_grain_outer_radius,\n",
    "    grain_initial_inner_radius=motor_grain_inner_radius,\n",
    "    grain_initial_height=motor_grain_height,\n",
    "    grain_separation=0,\n",
    "    nozzle_radius=motor_nozzle_radius,\n",
    "    nozzle_position=motor_nozzle_position,\n",
    "    throat_radius=motor_throat_radius,\n",
    "    reshape_thrust_curve=False,\n",
    "    interpolation_method='linear',\n",
    "    coordinate_system_orientation='combustion_chamber_to_nozzle',\n",
    ")"
   ]
  },
  {
   "cell_type": "code",
   "execution_count": null,
   "id": "a89fe306",
   "metadata": {},
   "outputs": [],
   "source": [
    "# Display complete motor information including:\n",
    "# - Thrust curve and performance characteristics\n",
    "# - Grain geometry and mass properties\n",
    "# - Nozzle dimensions\n",
    "# - Center of mass evolution during burn\n",
    "m2500t.all_info()"
   ]
  },
  {
   "cell_type": "markdown",
   "id": "7fdd3bcf",
   "metadata": {},
   "source": [
    "## Rocket Assembly\n",
    "\n",
    "V-10 is a single-stage rocket. The rocket assembly combines aerodynamic surfaces with mass/inertia properties and drag models.\n",
    "\n",
    "**Key Dimensional Variables:**\n",
    "- `rocket_body_radius`: reference radius defining the main body tube diameter and reference area for drag calculations\n",
    "\n",
    "**Mass Properties:**\n",
    "- `rocket_dry_mass`: total rocket mass without motor\n",
    "- `rocket_com_without_motor`: center of mass position from nose tip (without motor)\n",
    "- `rocket_inertia_i`: moment of inertia about pitch/yaw axes (Ixx = Iyy)\n",
    "- `rocket_inertia_z`: moment of inertia about roll axis (Izz)\n",
    "\n",
    "**Drag Models:**\n",
    "- `cd_power_off`: drag coefficient vs Mach number after motor burnout\n",
    "- `cd_power_on`: drag coefficient vs Mach number during motor burn\n",
    "\n",
    "The coordinate system uses `nose_to_tail` orientation, with positive distances measured from the nose tip toward the tail.\n",
    "\n",
    "Next, we define individual aerodynamic surfaces (nose cone, fins, boat tail) before assembling the complete rocket."
   ]
  },
  {
   "cell_type": "markdown",
   "id": "0eeddfcd",
   "metadata": {},
   "source": [
    "### Nose Cone\n",
    "\n",
    "V-10 uses a **Von Kármán (Haack series)** nose cone optimized for minimum drag at supersonic speeds.\n",
    "\n",
    "**Dimensional Variables:**\n",
    "- `nosecone_length`: axial length from tip to base\n",
    "- `nosecone_base_radius`: radius at the base (matches body tube)\n",
    "- `rocket_body_radius`: main body tube radius for proper attachment\n",
    "\n",
    "**Drag Contribution:**\n",
    "The Von Kármán shape minimizes **wave drag** at supersonic speeds by optimizing the volume distribution along the nose. This reduces the strength of shock waves formed at the nose tip during high-speed flight. The nose cone contributes to the overall rocket drag coefficient through:\n",
    "- **Form drag**: shape-dependent pressure distribution\n",
    "- **Wave drag**: shock wave formation at supersonic speeds (minimized by Von Kármán profile)\n",
    "- **Skin friction drag**: surface friction along the nose cone length"
   ]
  },
  {
   "cell_type": "code",
   "execution_count": null,
   "id": "15f0536b",
   "metadata": {},
   "outputs": [],
   "source": [
    "# Nose cone dimensions\n",
    "nosecone_length = 0.381  # m - length from tip to base\n",
    "nosecone_base_radius = 0.0777875  # m - radius at the base (matches body tube)\n",
    "rocket_body_radius = 0.0777875  # m - main body tube radius\n",
    "\n",
    "# Create Von Karman nose cone (optimized for minimum drag at supersonic speeds)\n",
    "# The Von Karman shape minimizes wave drag and is ideal for high-speed flight\n",
    "nosecone = NoseCone(\n",
    "    length=nosecone_length,\n",
    "    kind='Von Karman',\n",
    "    base_radius=nosecone_base_radius,\n",
    "    rocket_radius=rocket_body_radius,\n",
    "    name='Nose Cone',\n",
    ")"
   ]
  },
  {
   "cell_type": "code",
   "execution_count": null,
   "id": "4e4afbd6",
   "metadata": {},
   "outputs": [],
   "source": [
    "# Display nose cone profile visualization\n",
    "# Shows the aerodynamic shape and dimensions\n",
    "nosecone.draw()"
   ]
  },
  {
   "cell_type": "markdown",
   "id": "829341b4",
   "metadata": {},
   "source": [
    "### Fins\n",
    "\n",
    "V-10 features trapezoidal fins for aerodynamic stability. The fin geometry is approximated from the V-10 freeform design.\n",
    "\n",
    "**Fin Dimensional Variables:**\n",
    "- `fin_count`: number of fins around the body\n",
    "- `fin_root_chord`: length of fin along the body (root attachment)\n",
    "- `fin_tip_chord`: length of fin at the outer tip\n",
    "- `fin_span`: height of fin perpendicular to body (extends radially outward)\n",
    "- `fin_sweep_length`: horizontal distance from root leading edge to tip leading edge (determines sweep angle)\n",
    "\n",
    "**Drag Contribution:**\n",
    "Fins contribute to drag through multiple mechanisms:\n",
    "- **Skin friction drag**: surface area of fin exposed to airflow\n",
    "- **Form drag**: pressure drag from fin thickness and profile\n",
    "- **Induced drag**: generated when fins produce lift at angle of attack (stabilizing the rocket)\n",
    "- **Interference drag**: additional drag at the fin-body junction due to flow interaction\n",
    "- **Wave drag** (supersonic): shock waves formed at fin leading edges and body-fin junctions\n",
    "\n",
    "The fin sweep angle (determined by `fin_sweep_length`) helps reduce wave drag at supersonic speeds by angling the leading edge relative to the airflow."
   ]
  },
  {
   "cell_type": "code",
   "execution_count": null,
   "id": "d88d4257",
   "metadata": {},
   "outputs": [],
   "source": [
    "# Fin dimensions (trapezoidal approximation of V-10 fin design)\n",
    "fin_count = 4  # number of fins\n",
    "fin_root_chord = 0.3048  # m - length of fin at the root (attached to body)\n",
    "fin_tip_chord = 0.01905  # m - length of fin at the tip\n",
    "fin_span = 0.1524  # m - height of fin (perpendicular to body)\n",
    "fin_sweep_length = 0.254  # m - horizontal distance from root leading edge to tip leading edge\n",
    "\n",
    "# Create trapezoidal fins\n",
    "# Fins provide aerodynamic stability and generate lift-induced drag\n",
    "# Drag contribution: form drag from fin thickness, induced drag from lift at angle of attack\n",
    "fins = TrapezoidalFins(\n",
    "    n=fin_count,\n",
    "    root_chord=fin_root_chord,\n",
    "    tip_chord=fin_tip_chord,\n",
    "    span=fin_span,\n",
    "    sweep_length=fin_sweep_length,\n",
    "    rocket_radius=rocket_body_radius,\n",
    "    name=\"CF Trapezoidal (approx from V-10)\",\n",
    ")"
   ]
  },
  {
   "cell_type": "code",
   "execution_count": null,
   "id": "f52f3602",
   "metadata": {},
   "outputs": [],
   "source": [
    "# Display fin planform (top-down view) showing geometry\n",
    "# Visualizes the trapezoidal shape with sweep angle\n",
    "fins.draw()"
   ]
  },
  {
   "cell_type": "markdown",
   "id": "2a1e7bfe",
   "metadata": {},
   "source": [
    "### Transitions (Tails)\n",
    "\n",
    "The boat tail is a conical transition at the rocket's aft end that reduces base drag.\n",
    "\n",
    "**Boat Tail Dimensional Variables:**\n",
    "- `boattail_top_radius`: radius at the forward end (matches main body tube)\n",
    "- `boattail_bottom_radius`: smaller radius at the aft end\n",
    "- `boattail_length`: axial length of the transition\n",
    "\n",
    "**Drag Contribution:**\n",
    "The boat tail serves to reduce **base drag** (pressure drag in the wake region). Key effects:\n",
    "- **Base pressure recovery**: the tapered shape helps streamline airflow, reducing the low-pressure wake region behind the rocket\n",
    "- **Flow separation control**: gradual diameter reduction delays or controls boundary layer separation\n",
    "- **Wave drag reduction** (supersonic): smoother geometric transition reduces shock strength at the aft end\n",
    "\n",
    "Without a boat tail, the blunt base would create significant pressure drag due to flow separation and wake formation. The conical taper (`boattail_top_radius` to `boattail_bottom_radius`) allows the flow to close more gradually, increasing base pressure and reducing overall drag."
   ]
  },
  {
   "cell_type": "code",
   "execution_count": null,
   "id": "09f98c18",
   "metadata": {},
   "outputs": [],
   "source": [
    "# Initialize dictionary to store tail/transition sections\n",
    "# Tails create aerodynamic transitions between different body diameters\n",
    "tails = {}"
   ]
  },
  {
   "cell_type": "code",
   "execution_count": null,
   "id": "c34922dc",
   "metadata": {},
   "outputs": [],
   "source": [
    "# Boat tail dimensions (conical transition at rocket aft end)\n",
    "boattail_top_radius = 0.0777875  # m - matches main body tube radius\n",
    "boattail_bottom_radius = 0.0635  # m - smaller radius at aft end\n",
    "boattail_length = 0.0508  # m - axial length of transition\n",
    "\n",
    "# Create boat tail component\n",
    "# Boat tail reduces base drag by smoothing airflow transition at the rocket's aft end\n",
    "# Helps reduce pressure drag in the wake region behind the rocket\n",
    "tails[0] = Tail(\n",
    "    top_radius=boattail_top_radius,\n",
    "    bottom_radius=boattail_bottom_radius,\n",
    "    length=boattail_length,\n",
    "    rocket_radius=rocket_body_radius,\n",
    "    name='Boat Tail',\n",
    ")"
   ]
  },
  {
   "cell_type": "markdown",
   "id": "0f0f7e7a",
   "metadata": {},
   "source": [
    "### Parachutes\n",
    "\n",
    "V-10 uses a two-stage recovery system with drogue and main parachutes.\n",
    "\n",
    "**Parachute Drag Variables:**\n",
    "\n",
    "**Main Parachute:**\n",
    "- `main_chute_cd`: drag coefficient of the main parachute canopy\n",
    "- `main_chute_diameter`: diameter when fully inflated\n",
    "- `main_chute_area`: reference area (π × (diameter/2)²)\n",
    "- `main_chute_cd_s`: effective drag area (Cd × area), used directly in drag force calculation\n",
    "- `main_deploy_altitude`: altitude trigger for deployment\n",
    "\n",
    "**Drogue Parachute:**\n",
    "- `drogue_chute_cd`: drag coefficient of the drogue parachute\n",
    "- `drogue_chute_diameter`: smaller diameter for controlled descent\n",
    "- `drogue_chute_area`: reference area\n",
    "- `drogue_chute_cd_s`: effective drag area\n",
    "\n",
    "**Drag Force Calculation:**\n",
    "Parachute drag force follows: **F_drag = 0.5 × ρ × v² × CdS**\n",
    "\n",
    "where `CdS` is the product of drag coefficient and reference area. The drogue deploys at apogee to stabilize and slow initial descent, while the main parachute deploys at lower altitude for safe landing."
   ]
  },
  {
   "cell_type": "code",
   "execution_count": null,
   "id": "034ce6c3",
   "metadata": {},
   "outputs": [],
   "source": [
    "# Initialize dictionary to store parachute recovery components\n",
    "parachutes = {}"
   ]
  },
  {
   "cell_type": "code",
   "execution_count": null,
   "id": "1dc9269b",
   "metadata": {},
   "outputs": [],
   "source": [
    "# Main parachute drag parameters\n",
    "main_chute_cd = 2.2  # Drag coefficient for parachute canopy\n",
    "main_chute_diameter = 2.7432  # m - parachute diameter when fully inflated\n",
    "main_chute_area = 3.14159 * (main_chute_diameter / 2) ** 2  # m² - reference area\n",
    "main_chute_cd_s = main_chute_cd * main_chute_area  # m² - effective drag area (CdS)\n",
    "main_deploy_altitude = 396.24  # m - deployment altitude above ground level\n",
    "\n",
    "# Create main parachute with deployment trigger\n",
    "# CdS (drag coefficient × area) determines the drag force: F_drag = 0.5 × ρ × v² × CdS\n",
    "parachutes[0] = Parachute(\n",
    "    name='Main Parachute + Bag',\n",
    "    cd_s=main_chute_cd_s,\n",
    "    trigger=main_deploy_altitude,\n",
    "    sampling_rate=100, \n",
    ")"
   ]
  },
  {
   "cell_type": "code",
   "execution_count": null,
   "id": "bd22b07a",
   "metadata": {},
   "outputs": [],
   "source": [
    "# Drogue parachute drag parameters\n",
    "drogue_chute_cd = 2.2  # Drag coefficient for drogue parachute\n",
    "drogue_chute_diameter = 0.6096  # m - smaller diameter for initial descent stabilization\n",
    "drogue_chute_area = 3.14159 * (drogue_chute_diameter / 2) ** 2  # m² - reference area\n",
    "drogue_chute_cd_s = drogue_chute_cd * drogue_chute_area  # m² - effective drag area (CdS)\n",
    "\n",
    "# Create drogue parachute that deploys at apogee (highest point)\n",
    "# Drogue slows descent and stabilizes rocket before main chute deployment\n",
    "parachutes[1] = Parachute(\n",
    "    name='Drogue',\n",
    "    cd_s=drogue_chute_cd_s,\n",
    "    trigger='apogee',\n",
    "    sampling_rate=100, \n",
    ")"
   ]
  },
  {
   "cell_type": "markdown",
   "id": "2fe111a3",
   "metadata": {},
   "source": [
    "### Rocket Drag Coefficients\n",
    "\n",
    "The rocket's total drag is characterized by **drag coefficient (Cd)** as a function of Mach number. We define separate curves for:\n",
    "- **Power-off drag** (`cd_power_off`): drag after motor burnout\n",
    "- **Power-on drag** (`cd_power_on`): drag during motor burn (includes base drag effects from exhaust plume)\n",
    "\n",
    "Drag varies with Mach number due to:\n",
    "- **Subsonic (M < 0.9)**: primarily skin friction and form drag from body and fins\n",
    "- **Transonic (0.9 < M < 1.2)**: wave drag increases dramatically near M=1 due to shock formation\n",
    "- **Supersonic (M > 1.2)**: wave drag from nose cone, body, and fins dominates\n",
    "\n",
    "The `rocket_body_radius` defines the reference area (A_ref = π × radius²) used in drag force calculation:  \n",
    "**F_drag = 0.5 × ρ × v² × Cd × A_ref**\n",
    "\n",
    "Below we define Cd vs Mach arrays with initial estimates. These should be refined with CFD analysis or flight data."
   ]
  },
  {
   "cell_type": "code",
   "execution_count": null,
   "id": "904f3c24",
   "metadata": {},
   "outputs": [],
   "source": [
    "import numpy as np\n",
    "\n",
    "# Drag coefficient vs Mach number curves for V-10 rocket\n",
    "# Each row: [Mach number, Cd value]\n",
    "# These are initial estimates and should be refined with CFD or flight test data\n",
    "\n",
    "# Power-off drag (after motor burnout) - higher base drag without exhaust plume\n",
    "cd_power_off = np.array([\n",
    "    [0.00, 0.45],  # Subsonic: skin friction + form drag\n",
    "    [0.50, 0.50],  # High subsonic\n",
    "    [0.90, 0.55],  # Transonic approach: drag rise begins\n",
    "    [1.00, 0.75],  # Transonic peak: maximum wave drag at sonic speed\n",
    "    [1.20, 0.65],  # Supersonic: wave drag from shocks\n",
    "    [2.00, 0.50],  # High supersonic: drag decreases\n",
    "    [3.00, 0.45],  # Hypersonic approach\n",
    "])\n",
    "\n",
    "# Power-on drag (during motor burn) - reduced base drag due to exhaust plume filling wake\n",
    "cd_power_on = np.array([\n",
    "    [0.00, 0.40],  # Subsonic with thrust\n",
    "    [0.50, 0.45],  # High subsonic\n",
    "    [0.90, 0.50],  # Transonic approach\n",
    "    [1.00, 0.70],  # Transonic peak: wave drag maximum\n",
    "    [1.20, 0.60],  # Supersonic\n",
    "    [2.00, 0.45],  # High supersonic\n",
    "    [3.00, 0.40],  # Hypersonic approach\n",
    "])\n",
    "\n",
    "# Rocket mass and dimensional properties\n",
    "rocket_dry_mass = 17.732  # kg - mass without motor\n",
    "rocket_inertia_i = 0.115  # kg⋅m² - moment of inertia about pitch axis (Ixx = Iyy)\n",
    "rocket_inertia_z = 21.424  # kg⋅m² - moment of inertia about roll axis (Izz)\n",
    "rocket_com_without_motor = 1.41  # m - center of mass position from nose tip (without motor)\n",
    "\n",
    "# Create Rocket object with aerodynamic and mass properties\n",
    "# The reference radius determines reference area for drag force calculations\n",
    "rocket = Rocket(\n",
    "    radius=rocket_body_radius,\n",
    "    mass=rocket_dry_mass,\n",
    "    inertia=[rocket_inertia_i, rocket_inertia_i, rocket_inertia_z],\n",
    "    power_off_drag=cd_power_off,\n",
    "    power_on_drag=cd_power_on,\n",
    "    center_of_mass_without_motor=rocket_com_without_motor,\n",
    "    coordinate_system_orientation='nose_to_tail',\n",
    ")"
   ]
  },
  {
   "cell_type": "markdown",
   "id": "50647b7e",
   "metadata": {},
   "source": [
    "### Adding surfaces to the rocket\n",
    "\n",
    "We attach aerodynamic surfaces at specific axial positions (measured from nose tip):\n",
    "- **Nose cone** at position `nosecone_position`: the tip reference point\n",
    "- **Fins** at position `fins_position`: root leading edge location\n",
    "- **Boat tail** at position `boattail_position`: start of aft transition\n",
    "\n",
    "Proper positioning is critical for accurate center of pressure and stability margin calculations. All positions follow the 'nose_to_tail' coordinate convention (positive direction toward tail)."
   ]
  },
  {
   "cell_type": "code",
   "execution_count": null,
   "id": "79f35928",
   "metadata": {},
   "outputs": [],
   "source": [
    "# Axial positions for aerodynamic surfaces (measured from nose tip)\n",
    "nosecone_position = 0.0  # m - nose cone tip is the origin\n",
    "fins_position = 2.592  # m - root leading edge of fins\n",
    "boattail_position = 2.8964  # m - start of boat tail transition\n",
    "\n",
    "# Add all aerodynamic surfaces to the rocket at their specified positions\n",
    "# This affects center of pressure calculation and overall stability\n",
    "rocket.add_surfaces(surfaces=[nosecone, fins, tails[0]], positions=[nosecone_position, fins_position, boattail_position])"
   ]
  },
  {
   "cell_type": "code",
   "execution_count": null,
   "id": "1696fd50",
   "metadata": {},
   "outputs": [],
   "source": [
    "# Motor position (aft end of motor casing measured from nose tip)\n",
    "motor_position = 2.562  # m - motor placement in airframe\n",
    "\n",
    "# Add motor to rocket\n",
    "# Motor position affects center of mass location and mass distribution\n",
    "rocket.add_motor(m2500t, position=motor_position)"
   ]
  },
  {
   "cell_type": "markdown",
   "id": "34d47124",
   "metadata": {},
   "source": [
    "Adding parachutes to the rocket\n"
   ]
  },
  {
   "cell_type": "code",
   "execution_count": null,
   "id": "e1daf782",
   "metadata": {},
   "outputs": [],
   "source": [
    "# Assign parachutes to rocket recovery system\n",
    "# Converts dictionary to list and adds to rocket object\n",
    "rocket.parachutes = list(parachutes.values())"
   ]
  },
  {
   "cell_type": "markdown",
   "id": "a5f8c731",
   "metadata": {},
   "source": [
    "### Rail Buttons\n",
    "\n",
    "Rail buttons guide the rocket along the launch rail until sufficient velocity is achieved for aerodynamic stability. Positions are defined as:\n",
    "- `upper_button_position`: distance from nose tip to upper button center\n",
    "- `lower_button_position`: distance from nose tip to lower button center\n",
    "- `angular_position`: rotational position around the body (degrees)\n",
    "\n",
    "Proper spacing ensures smooth rail departure and prevents rail whip during launch."
   ]
  },
  {
   "cell_type": "code",
   "execution_count": null,
   "id": "80f36f62",
   "metadata": {},
   "outputs": [],
   "source": [
    "# Rail button positions (measured from nose tip)\n",
    "upper_button_position = 1.7778  # m - upper button center location\n",
    "lower_button_position = 1.3906  # m - lower button center location\n",
    "button_angular_position = 60.0  # degrees - rotational position around body\n",
    "\n",
    "# Configure rail buttons on the rocket\n",
    "# Rail buttons engage with launch rail to provide initial guidance\n",
    "rail_buttons = rocket.set_rail_buttons(\n",
    "   upper_button_position=upper_button_position,\n",
    "   lower_button_position=lower_button_position,\n",
    "   angular_position=button_angular_position,\n",
    ")"
   ]
  },
  {
   "cell_type": "code",
   "execution_count": null,
   "id": "0a484f8a",
   "metadata": {},
   "outputs": [],
   "source": [
    "# Display comprehensive rocket information including:\n",
    "# - Mass properties (total mass, center of mass, inertia)\n",
    "# - Aerodynamic properties (drag curves, surface contributions)\n",
    "# - Geometric configuration (dimensions, component positions)\n",
    "# - Stability analysis (center of pressure, static margin)\n",
    "rocket.all_info()"
   ]
  },
  {
   "cell_type": "markdown",
   "id": "84a9f4af",
   "metadata": {},
   "source": [
    "## Flight Simulation\n",
    "\n",
    "Now we create the flight simulation object with launch parameters:\n",
    "- `rail_length`: length of launch rail in meters\n",
    "- `inclination`: launch angle from horizontal (90° = vertical)\n",
    "- `heading`: compass direction (0° = North, 90° = East)\n",
    "- `max_time`: maximum simulation duration in seconds\n",
    "\n",
    "The simulation integrates equations of motion considering thrust, drag, gravity, and aerodynamic forces."
   ]
  },
  {
   "cell_type": "code",
   "execution_count": null,
   "id": "5f93c009",
   "metadata": {},
   "outputs": [],
   "source": [
    "# Flight simulation parameters\n",
    "rail_length = 5.1816  # m - length of launch rail\n",
    "launch_inclination = 90.0  # degrees - vertical launch (90° from horizontal)\n",
    "launch_heading = 90.0  # degrees - East direction (compass heading)\n",
    "max_simulation_time = 600  # seconds - maximum flight time to simulate\n",
    "\n",
    "# Create Flight simulation object\n",
    "# Simulates rocket trajectory from launch through descent and landing\n",
    "flight = Flight(\n",
    "    rocket=rocket,\n",
    "    environment=env,\n",
    "    rail_length=rail_length,\n",
    "    inclination=launch_inclination,\n",
    "    heading=launch_heading,\n",
    "    terminate_on_apogee=False,  # Continue simulation through descent\n",
    "    max_time=max_simulation_time,\n",
    ")"
   ]
  },
  {
   "cell_type": "code",
   "execution_count": null,
   "id": "502a85b8",
   "metadata": {},
   "outputs": [],
   "source": [
    "# Display comprehensive flight analysis including:\n",
    "# - Trajectory plots (altitude, velocity, acceleration vs time)\n",
    "# - Maximum values (apogee, max velocity, max acceleration)\n",
    "# - Stability metrics throughout flight\n",
    "# - Recovery system deployment events\n",
    "# - Impact conditions and landing location\n",
    "print(\"Flight Summary:\")\n",
    "flight.all_info()"
   ]
  }
 ],
 "metadata": {
  "kernelspec": {
   "display_name": "rl-rocketpy-sim",
   "language": "python",
   "name": "python3"
  },
  "language_info": {
   "codemirror_mode": {
    "name": "ipython",
    "version": 3
   },
   "file_extension": ".py",
   "mimetype": "text/x-python",
   "name": "python",
   "nbconvert_exporter": "python",
   "pygments_lexer": "ipython3",
   "version": "3.13.7"
  }
 },
 "nbformat": 4,
 "nbformat_minor": 5
}
