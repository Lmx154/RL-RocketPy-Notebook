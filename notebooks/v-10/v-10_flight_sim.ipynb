{
 "cells": [
  {
   "cell_type": "markdown",
   "id": "296e479d",
   "metadata": {},
   "source": [
    "# V-10 flight simulation\n",
    "This notebook is being developed by the avionics and flight dynamics sub-teams in The Rocket Launchers student organization at the University of Texas Rio Grande Valley. Our rocket's name is V-10 in celebration of our club's 10th anniversary! V-10 will be competing in the 10k COTS division at IREC. \n",
    "\n",
    "Key features of V-10:\n",
    "- Air brakes\n",
    "- vonKarman Nose Cone\n",
    "- Replaceable fins\n"
   ]
  },
  {
   "cell_type": "code",
   "execution_count": null,
   "id": "a97170ca",
   "metadata": {},
   "outputs": [],
   "source": [
    "from rocketpy import Environment, SolidMotor, Rocket, Flight, TrapezoidalFins, EllipticalFins, RailButtons, NoseCone, Tail, Parachute\n",
    "import datetime\n"
   ]
  },
  {
   "cell_type": "markdown",
   "id": "f98bc9ad",
   "metadata": {},
   "source": [
    "## Environment\n"
   ]
  },
  {
   "cell_type": "code",
   "execution_count": null,
   "id": "6b2a2970",
   "metadata": {},
   "outputs": [],
   "source": [
    "env = Environment()\n",
    "env.set_location(latitude=28.61, longitude=-80.6)\n",
    "env.set_elevation(1402.0800000000002)\n"
   ]
  },
  {
   "cell_type": "markdown",
   "id": "9bbf5983",
   "metadata": {},
   "source": [
    "Optionally, you can set the date and atmospheric model\n"
   ]
  },
  {
   "cell_type": "code",
   "execution_count": null,
   "id": "f88b99a8",
   "metadata": {},
   "outputs": [],
   "source": [
    "tomorrow = datetime.date.today() + datetime.timedelta(days=1)\n",
    "env.set_date((tomorrow.year, tomorrow.month, tomorrow.day, 12))\n",
    "# env.set_atmospheric_model(type='Forecast', file='GFS')"
   ]
  },
  {
   "cell_type": "code",
   "execution_count": null,
   "id": "16b9d5e3",
   "metadata": {},
   "outputs": [],
   "source": [
    "env.all_info()\n"
   ]
  },
  {
   "cell_type": "markdown",
   "id": "7b7db619",
   "metadata": {},
   "source": [
    "## Motor\n",
    "We are using an Aerotech M2500T"
   ]
  },
  {
   "cell_type": "code",
   "execution_count": null,
   "id": "b3ecc9ff",
   "metadata": {},
   "outputs": [],
   "source": [
    "motor = SolidMotor(\n",
    "    thrust_source='thrust_source_clean.csv',\n",
    "    dry_mass=0,\n",
    "    center_of_dry_mass_position=0,\n",
    "    dry_inertia=[0, 0, 0],\n",
    "    grains_center_of_mass_position=0,\n",
    "    grain_number=1,\n",
    "    grain_density=1173.1466429429975,\n",
    "    grain_outer_radius=0.049,\n",
    "    grain_initial_inner_radius=0.0245,\n",
    "    grain_initial_height=0.702,\n",
    "    grain_separation=0,\n",
    "    nozzle_radius=0.036750000000000005,\n",
    "    nozzle_position=-0.351,\n",
    "    throat_radius=0.0245,\n",
    "    reshape_thrust_curve=False,  # Not implemented in Rocket-Serializer\n",
    "    interpolation_method='linear',\n",
    "    coordinate_system_orientation='nozzle_to_combustion_chamber',\n",
    ")"
   ]
  },
  {
   "cell_type": "code",
   "execution_count": null,
   "id": "b3ecc9ff",
   "metadata": {},
   "outputs": [],
   "source": [
    "motor.all_info()\n"
   ]
  },
  {
   "cell_type": "markdown",
   "id": "7fdd3bcf",
   "metadata": {},
   "source": [
    "## Rocket\n",
    "Currently, only single stage rockets are supported by Rocket-Serializer\n",
    "We will start by defining the aerodynamic surfaces, and then build the rocket.\n"
   ]
  },
  {
   "cell_type": "markdown",
   "id": "0eeddfcd",
   "metadata": {},
   "source": [
    "### Nosecones\n"
   ]
  },
  {
   "cell_type": "code",
   "execution_count": null,
   "id": "15f0536b",
   "metadata": {},
   "outputs": [],
   "source": [
    "nosecone = NoseCone(\n",
    "    length=0.3809999999999999,\n",
    "    kind='Von Karman',\n",
    "    base_radius=0.0777875,\n",
    "    rocket_radius=0.0777875,\n",
    "    name='0.3809999999999999',\n",
    ")\n"
   ]
  },
  {
   "cell_type": "markdown",
   "id": "829341b4",
   "metadata": {},
   "source": [
    "### Fins\n",
    "As rocketpy allows for multiple fins sets, we will create a dictionary with all the fins sets and then add them to the rocket\n"
   ]
  },
  {
   "cell_type": "code",
   "execution_count": null,
   "id": "d88d4257",
   "metadata": {},
   "outputs": [],
   "source": [
    "# No fins were added to the rocket. Check parameters.json."
   ]
  },
  {
   "cell_type": "markdown",
   "id": "2a1e7bfe",
   "metadata": {},
   "source": [
    "### Transitions (Tails)\n",
    "As rocketpy allows for multiple tails, we will create a dictionary with all the tails and then add them to the rocket\n"
   ]
  },
  {
   "cell_type": "code",
   "execution_count": null,
   "id": "09f98c18",
   "metadata": {},
   "outputs": [],
   "source": [
    "tails = {}\n"
   ]
  },
  {
   "cell_type": "code",
   "execution_count": null,
   "id": "c34922dc",
   "metadata": {},
   "outputs": [],
   "source": [
    "tails[0] = Tail(\n",
    "    top_radius=0.0777875,\n",
    "    bottom_radius=0.06349999999999999,\n",
    "    length=0.0508,\n",
    "    rocket_radius=0.0777875,\n",
    "    name='Transition',\n",
    ")\n"
   ]
  },
  {
   "cell_type": "markdown",
   "id": "0f0f7e7a",
   "metadata": {},
   "source": [
    "### Parachutes\n",
    "As rocketpy allows for multiple parachutes, we will create a dictionary with all the parachutes and then add them to the rocket\n"
   ]
  },
  {
   "cell_type": "code",
   "execution_count": null,
   "id": "034ce6c3",
   "metadata": {},
   "outputs": [],
   "source": [
    "parachutes = {}\n"
   ]
  },
  {
   "cell_type": "code",
   "execution_count": null,
   "id": "1dc9269b",
   "metadata": {},
   "outputs": [],
   "source": [
    "parachutes[0] = Parachute(\n",
    "    name='Main Parachute + Bag',\n",
    "    cd_s=13.003,\n",
    "    trigger=396.240,\n",
    "    sampling_rate=100, \n",
    ")\n"
   ]
  },
  {
   "cell_type": "code",
   "execution_count": null,
   "id": "bd22b07a",
   "metadata": {},
   "outputs": [],
   "source": [
    "parachutes[1] = Parachute(\n",
    "    name='Drogue',\n",
    "    cd_s=0.642,\n",
    "    trigger='apogee',\n",
    "    sampling_rate=100, \n",
    ")\n"
   ]
  },
  {
   "cell_type": "code",
   "execution_count": null,
   "id": "904f3c24",
   "metadata": {},
   "outputs": [],
   "source": [
    "rocket = Rocket(\n",
    "    radius=0.0777875,\n",
    "    mass=28.271,\n",
    "    inertia=[0.115, 0.115, 21.424],\n",
    "    power_off_drag='drag_curve.csv',\n",
    "    power_on_drag='drag_curve.csv',\n",
    "    center_of_mass_without_motor=1.476,\n",
    "    coordinate_system_orientation='nose_to_tail',\n",
    ")\n"
   ]
  },
  {
   "cell_type": "markdown",
   "id": "50647b7e",
   "metadata": {},
   "source": [
    "### Adding surfaces to the rocket\n",
    "Now that we have all the surfaces, we can add them to the rocket\n"
   ]
  },
  {
   "cell_type": "code",
   "execution_count": null,
   "id": "79f35928",
   "metadata": {},
   "outputs": [],
   "source": [
    "rocket.add_surfaces(surfaces=[nosecone, tails[0]], positions=[0.0, 2.8964])"
   ]
  },
  {
   "cell_type": "code",
   "execution_count": null,
   "id": "1696fd50",
   "metadata": {},
   "outputs": [],
   "source": [
    "rocket.add_motor(motor, position= 2.4727773722627746)\n"
   ]
  },
  {
   "cell_type": "markdown",
   "id": "34d47124",
   "metadata": {},
   "source": [
    "Adding parachutes to the rocket\n"
   ]
  },
  {
   "cell_type": "code",
   "execution_count": null,
   "id": "e1daf782",
   "metadata": {},
   "outputs": [],
   "source": [
    "rocket.parachutes = list(parachutes.values())\n"
   ]
  },
  {
   "cell_type": "markdown",
   "id": "a5f8c731",
   "metadata": {},
   "source": [
    "### Rail Buttons\n"
   ]
  },
  {
   "cell_type": "code",
   "execution_count": null,
   "id": "80f36f62",
   "metadata": {},
   "outputs": [],
   "source": [
    "rail_buttons = rocket.set_rail_buttons(\n",
    "   upper_button_position=2.762,\n",
    "   lower_button_position=3.776,\n",
    "   angular_position=60.000,\n",
    ")\n"
   ]
  },
  {
   "cell_type": "code",
   "execution_count": null,
   "id": "0a484f8a",
   "metadata": {},
   "outputs": [],
   "source": [
    "### Rocket Info\n",
    "rocket.all_info()\n"
   ]
  },
  {
   "cell_type": "markdown",
   "id": "84a9f4af",
   "metadata": {},
   "source": [
    "## Flight\n",
    "We will now create the flight simulation. Let's go!\n"
   ]
  },
  {
   "cell_type": "code",
   "execution_count": null,
   "id": "5f93c009",
   "metadata": {},
   "outputs": [],
   "source": [
    "flight = Flight(\n",
    "    rocket=rocket,\n",
    "    environment=env,\n",
    "    rail_length=5.1816,\n",
    "    inclination=90.0,\n",
    "    heading=90.0,\n",
    "    terminate_on_apogee=False,\n",
    "    max_time=600,\n",
    ")"
   ]
  },
  {
   "cell_type": "code",
   "execution_count": null,
   "id": "502a85b8",
   "metadata": {},
   "outputs": [],
   "source": [
    "flight.all_info()\n"
   ]
  }
 ],
 "metadata": {
  "kernelspec": {
   "display_name": "rl-rocketpy-hil (3.13.5)",
   "language": "python",
   "name": "python3"
  },
  "language_info": {
   "codemirror_mode": {
    "name": "ipython",
    "version": 3
   },
   "file_extension": ".py",
   "mimetype": "text/x-python",
   "name": "python",
   "nbconvert_exporter": "python",
   "pygments_lexer": "ipython3",
   "version": "3.13.5"
  }
 },
 "nbformat": 4,
 "nbformat_minor": 5
}
